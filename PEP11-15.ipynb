{
 "cells": [
  {
   "cell_type": "markdown",
   "metadata": {},
   "source": [
    "***\n",
    "## PEP11"
   ]
  },
  {
   "cell_type": "markdown",
   "metadata": {},
   "source": [
    "In the 20×20 grid below, four numbers along a diagonal line have been marked in red.\n",
    "\n",
    "08 02 22 97 38 15 00 40 00 75 04 05 07 78 52 12 50 77 91 08\n",
    "49 49 99 40 17 81 18 57 60 87 17 40 98 43 69 48 04 56 62 00\n",
    "81 49 31 73 55 79 14 29 93 71 40 67 53 88 30 03 49 13 36 65\n",
    "52 70 95 23 04 60 11 42 69 24 68 56 01 32 56 71 37 02 36 91\n",
    "22 31 16 71 51 67 63 89 41 92 36 54 22 40 40 28 66 33 13 80\n",
    "24 47 32 60 99 03 45 02 44 75 33 53 78 36 84 20 35 17 12 50\n",
    "32 98 81 28 64 23 67 10 26 38 40 67 59 54 70 66 18 38 64 70\n",
    "67 26 20 68 02 62 12 20 95 63 94 39 63 08 40 91 66 49 94 21\n",
    "24 55 58 05 66 73 99 26 97 17 78 78 96 83 14 88 34 89 63 72\n",
    "21 36 23 09 75 00 76 44 20 45 35 14 00 61 33 97 34 31 33 95\n",
    "78 17 53 28 22 75 31 67 15 94 03 80 04 62 16 14 09 53 56 92\n",
    "16 39 05 42 96 35 31 47 55 58 88 24 00 17 54 24 36 29 85 57\n",
    "86 56 00 48 35 71 89 07 05 44 44 37 44 60 21 58 51 54 17 58\n",
    "19 80 81 68 05 94 47 69 28 73 92 13 86 52 17 77 04 89 55 40\n",
    "04 52 08 83 97 35 99 16 07 97 57 32 16 26 26 79 33 27 98 66\n",
    "88 36 68 87 57 62 20 72 03 46 33 67 46 55 12 32 63 93 53 69\n",
    "04 42 16 73 38 25 39 11 24 94 72 18 08 46 29 32 40 62 76 36\n",
    "20 69 36 41 72 30 23 88 34 62 99 69 82 67 59 85 74 04 36 16\n",
    "20 73 35 29 78 31 90 01 74 31 49 71 48 86 81 16 23 57 05 54\n",
    "01 70 54 71 83 51 54 69 16 92 33 48 61 43 52 01 89 19 67 48\n",
    "\n",
    "The product of these numbers is 26 × 63 × 78 × 14 = 1788696.\n",
    "\n",
    "What is the greatest product of four adjacent numbers in the same direction (up, down, left, right, or diagonally) in the 20×20 grid?"
   ]
  },
  {
   "cell_type": "markdown",
   "metadata": {},
   "source": [
    "## numpy Version"
   ]
  },
  {
   "cell_type": "code",
   "execution_count": 1,
   "metadata": {
    "collapsed": true
   },
   "outputs": [],
   "source": [
    "import numpy as np"
   ]
  },
  {
   "cell_type": "code",
   "execution_count": 2,
   "metadata": {
    "collapsed": false
   },
   "outputs": [
    {
     "name": "stdout",
     "output_type": "stream",
     "text": [
      "[[ 8  2 22 97 38 15  0 40  0 75  4  5  7 78 52 12 50 77 91  8]\n",
      " [49 49 99 40 17 81 18 57 60 87 17 40 98 43 69 48  4 56 62  0]\n",
      " [81 49 31 73 55 79 14 29 93 71 40 67 53 88 30  3 49 13 36 65]\n",
      " [52 70 95 23  4 60 11 42 69 24 68 56  1 32 56 71 37  2 36 91]\n",
      " [22 31 16 71 51 67 63 89 41 92 36 54 22 40 40 28 66 33 13 80]\n",
      " [24 47 32 60 99  3 45  2 44 75 33 53 78 36 84 20 35 17 12 50]\n",
      " [32 98 81 28 64 23 67 10 26 38 40 67 59 54 70 66 18 38 64 70]\n",
      " [67 26 20 68  2 62 12 20 95 63 94 39 63  8 40 91 66 49 94 21]\n",
      " [24 55 58  5 66 73 99 26 97 17 78 78 96 83 14 88 34 89 63 72]\n",
      " [21 36 23  9 75  0 76 44 20 45 35 14  0 61 33 97 34 31 33 95]\n",
      " [78 17 53 28 22 75 31 67 15 94  3 80  4 62 16 14  9 53 56 92]\n",
      " [16 39  5 42 96 35 31 47 55 58 88 24  0 17 54 24 36 29 85 57]\n",
      " [86 56  0 48 35 71 89  7  5 44 44 37 44 60 21 58 51 54 17 58]\n",
      " [19 80 81 68  5 94 47 69 28 73 92 13 86 52 17 77  4 89 55 40]\n",
      " [ 4 52  8 83 97 35 99 16  7 97 57 32 16 26 26 79 33 27 98 66]\n",
      " [88 36 68 87 57 62 20 72  3 46 33 67 46 55 12 32 63 93 53 69]\n",
      " [ 4 42 16 73 38 25 39 11 24 94 72 18  8 46 29 32 40 62 76 36]\n",
      " [20 69 36 41 72 30 23 88 34 62 99 69 82 67 59 85 74  4 36 16]\n",
      " [20 73 35 29 78 31 90  1 74 31 49 71 48 86 81 16 23 57  5 54]\n",
      " [ 1 70 54 71 83 51 54 69 16 92 33 48 61 43 52  1 89 19 67 48]]\n"
     ]
    }
   ],
   "source": [
    "numbers = np.loadtxt('pep11.txt',dtype = np.int32)\n",
    "print(numbers)"
   ]
  },
  {
   "cell_type": "code",
   "execution_count": 3,
   "metadata": {
    "collapsed": false
   },
   "outputs": [
    {
     "data": {
      "text/plain": [
       "(20, 20)"
      ]
     },
     "execution_count": 3,
     "metadata": {},
     "output_type": "execute_result"
    }
   ],
   "source": [
    "numbers.shape"
   ]
  },
  {
   "cell_type": "code",
   "execution_count": 4,
   "metadata": {
    "collapsed": false
   },
   "outputs": [
    {
     "name": "stdout",
     "output_type": "stream",
     "text": [
      "48477312\n"
     ]
    }
   ],
   "source": [
    "#find max in row\n",
    "max_row = 0\n",
    "for i in numbers:\n",
    "    #print(i)\n",
    "    for k in range(1,18):\n",
    "        tmp = np.multiply.reduce(i[k:k+4],dtype = np.uint32)\n",
    "        if tmp> max_row:\n",
    "            max_row = tmp\n",
    "print(max_row)"
   ]
  },
  {
   "cell_type": "code",
   "execution_count": 5,
   "metadata": {
    "collapsed": false,
    "scrolled": true
   },
   "outputs": [
    {
     "name": "stdout",
     "output_type": "stream",
     "text": [
      "51267216\n"
     ]
    }
   ],
   "source": [
    "#find max in column\n",
    "max_row = 0\n",
    "for j in range(20):\n",
    "    i = numbers[::,j]\n",
    "    for k in range(1,18):\n",
    "        tmp = np.multiply.reduce(i[k:k+4],dtype = np.uint32)\n",
    "        if tmp> max_row:\n",
    "            max_row = tmp\n",
    "print(max_row)"
   ]
  },
  {
   "cell_type": "code",
   "execution_count": 6,
   "metadata": {
    "collapsed": false
   },
   "outputs": [
    {
     "name": "stdout",
     "output_type": "stream",
     "text": [
      "70600674\n"
     ]
    }
   ],
   "source": [
    "#find_left_diag\n",
    "max_left_d = 0\n",
    "for x in range(0,17):\n",
    "    for y in range(3,20):\n",
    "        tmp = numbers[x,y]*numbers[x+1,y-1]*numbers[x+2,y-2]*numbers[x+3,y-3]\n",
    "        if tmp>max_left_d:\n",
    "            max_left_d = tmp\n",
    "print(max_left_d)"
   ]
  },
  {
   "cell_type": "code",
   "execution_count": 7,
   "metadata": {
    "collapsed": false
   },
   "outputs": [
    {
     "name": "stdout",
     "output_type": "stream",
     "text": [
      "40304286\n"
     ]
    }
   ],
   "source": [
    "#find_right_diag\n",
    "max_left_d = 0\n",
    "for x in range(0,17):\n",
    "    for y in range(0,17):\n",
    "        tmp = numbers[x,y]*numbers[x+1,y+1]*numbers[x+2,y+2]*numbers[x+3,y+3]\n",
    "        if tmp>max_left_d:\n",
    "            max_left_d = tmp\n",
    "print(max_left_d)"
   ]
  },
  {
   "cell_type": "markdown",
   "metadata": {},
   "source": [
    "#### answer is 70600674"
   ]
  },
  {
   "cell_type": "markdown",
   "metadata": {
    "collapsed": true
   },
   "source": [
    "## PEP 12\n",
    "\n",
    "The sequence of triangle numbers is generated by adding the natural numbers. So the 7th triangle number would be 1 + 2 + 3 + 4 + 5 + 6 + 7 = 28. The first ten terms would be:\n",
    "\n",
    "1, 3, 6, 10, 15, 21, 28, 36, 45, 55, ...\n",
    "\n",
    "Let us list the factors of the first seven triangle numbers:\n",
    "\n",
    " 1: 1\n",
    " 3: 1,3\n",
    " 6: 1,2,3,6\n",
    "10: 1,2,5,10\n",
    "15: 1,3,5,15\n",
    "21: 1,3,7,21\n",
    "28: 1,2,4,7,14,28\n",
    "We can see that 28 is the first triangle number to have over five divisors.\n",
    "\n",
    "What is the value of the first triangle number to have over five hundred divisors?"
   ]
  },
  {
   "cell_type": "markdown",
   "metadata": {},
   "source": [
    "### Pure Python"
   ]
  },
  {
   "cell_type": "code",
   "execution_count": 8,
   "metadata": {
    "collapsed": true
   },
   "outputs": [],
   "source": [
    "from math import sqrt\n",
    "def factorize(n):\n",
    "    res = []\n",
    "    # iterate over all even numbers first.\n",
    "    while n % 2 == 0:\n",
    "        res.append(2)\n",
    "        n //= 2\n",
    "    # try odd numbers up to sqrt(n)\n",
    "    limit = sqrt(n+1)\n",
    "    i = 3\n",
    "    while i <= limit:\n",
    "        if n % i == 0:\n",
    "            res.append(i)\n",
    "            n //= i\n",
    "            limit = sqrt(n+i)\n",
    "        else:\n",
    "            i += 2\n",
    "    if n != 1:\n",
    "        res.append(n)\n",
    "    return res"
   ]
  },
  {
   "cell_type": "code",
   "execution_count": 9,
   "metadata": {
    "collapsed": true
   },
   "outputs": [],
   "source": [
    "from functools import reduce\n",
    "def divisors_count(n):\n",
    "    if n==1:\n",
    "        return 1\n",
    "    prime_factors = factorize(n)\n",
    "    if len(prime_factors)==1:\n",
    "        return 2\n",
    "    neat = set(prime_factors)\n",
    "    powers = []\n",
    "    for p in neat:\n",
    "        powers.append(prime_factors.count(p))\n",
    "    t = [i+1 for i in powers]\n",
    "    return reduce(lambda x,y:x*y,t)\n",
    "        "
   ]
  },
  {
   "cell_type": "code",
   "execution_count": 10,
   "metadata": {
    "collapsed": false
   },
   "outputs": [
    {
     "data": {
      "text/plain": [
       "128"
      ]
     },
     "execution_count": 10,
     "metadata": {},
     "output_type": "execute_result"
    }
   ],
   "source": [
    "divisors_count(2*2*2*3*3*3*5*7*11)"
   ]
  },
  {
   "cell_type": "code",
   "execution_count": 11,
   "metadata": {
    "collapsed": true
   },
   "outputs": [],
   "source": [
    "from sympy import divisors"
   ]
  },
  {
   "cell_type": "code",
   "execution_count": 12,
   "metadata": {
    "collapsed": false
   },
   "outputs": [
    {
     "data": {
      "text/plain": [
       "128"
      ]
     },
     "execution_count": 12,
     "metadata": {},
     "output_type": "execute_result"
    }
   ],
   "source": [
    "len(divisors(2*2*2*3*3*3*5*7*11))"
   ]
  },
  {
   "cell_type": "code",
   "execution_count": 13,
   "metadata": {
    "collapsed": true
   },
   "outputs": [],
   "source": [
    "def tri_num(n):\n",
    "    return n*(n+1)//2"
   ]
  },
  {
   "cell_type": "code",
   "execution_count": 14,
   "metadata": {
    "collapsed": false
   },
   "outputs": [
    {
     "name": "stdout",
     "output_type": "stream",
     "text": [
      "12375 76576500 576\n",
      "12375 76576500 576\n",
      "12375 76576500 576\n",
      "12375 76576500 576\n",
      "1 loop, best of 3: 723 ms per loop\n"
     ]
    }
   ],
   "source": [
    "%%timeit\n",
    "i = 1\n",
    "while 1:\n",
    "    if divisors_count(tri_num(i))>=500:\n",
    "        print(i,tri_num(i),divisors_count(tri_num(i)))\n",
    "        break\n",
    "    i +=1"
   ]
  },
  {
   "cell_type": "code",
   "execution_count": 15,
   "metadata": {
    "collapsed": false
   },
   "outputs": [
    {
     "name": "stdout",
     "output_type": "stream",
     "text": [
      "14399 103672800 648\n",
      "14399 103672800 648\n",
      "14399 103672800 648\n",
      "14399 103672800 648\n",
      "1 loop, best of 3: 901 ms per loop\n"
     ]
    }
   ],
   "source": [
    "%%timeit\n",
    "i = 1\n",
    "while 1:\n",
    "    if divisors_count(tri_num(i))>=600:\n",
    "        print(i,tri_num(i),divisors_count(tri_num(i)))\n",
    "        break\n",
    "    i +=1"
   ]
  },
  {
   "cell_type": "markdown",
   "metadata": {},
   "source": [
    "## numpy Version"
   ]
  },
  {
   "cell_type": "code",
   "execution_count": 16,
   "metadata": {
    "collapsed": false
   },
   "outputs": [
    {
     "name": "stdout",
     "output_type": "stream",
     "text": [
      "76576500 12375\n",
      "76576500 12375\n",
      "76576500 12375\n",
      "76576500 12375\n",
      "1 loop, best of 3: 583 ms per loop\n"
     ]
    }
   ],
   "source": [
    "%%timeit\n",
    "for i in range(3,20000):\n",
    "    b = tri_num(i)\n",
    "    n = np.arange(1,int(sqrt(b)))\n",
    "    t = np.mod(b,n)==0\n",
    "    dc = 2* (t.sum())\n",
    "    if dc>500:\n",
    "        break\n",
    "print(tri_num(i),i)"
   ]
  },
  {
   "cell_type": "code",
   "execution_count": 17,
   "metadata": {
    "collapsed": false
   },
   "outputs": [
    {
     "data": {
      "text/plain": [
       "array([       1,        2,        6,       24,      120,      720,\n",
       "           5040,    40320,   362880,  3628800, 39916800], dtype=int32)"
      ]
     },
     "execution_count": 17,
     "metadata": {},
     "output_type": "execute_result"
    }
   ],
   "source": [
    "np.cumprod(np.arange(1,12))"
   ]
  },
  {
   "cell_type": "code",
   "execution_count": 18,
   "metadata": {
    "collapsed": false
   },
   "outputs": [
    {
     "data": {
      "text/plain": [
       "array([        1,         3,         6, ..., 199950003, 199970001,\n",
       "       199990000], dtype=uint32)"
      ]
     },
     "execution_count": 18,
     "metadata": {},
     "output_type": "execute_result"
    }
   ],
   "source": [
    "np.cumsum(np.arange(1,20000),dtype= np.uint32)"
   ]
  },
  {
   "cell_type": "markdown",
   "metadata": {},
   "source": [
    "### incredible fast!!!"
   ]
  },
  {
   "cell_type": "code",
   "execution_count": 19,
   "metadata": {
    "collapsed": false
   },
   "outputs": [
    {
     "name": "stdout",
     "output_type": "stream",
     "text": [
      "103672800 14399\n",
      "103672800 14399\n",
      "103672800 14399\n",
      "103672800 14399\n",
      "1 loop, best of 3: 790 ms per loop\n"
     ]
    }
   ],
   "source": [
    "%%timeit\n",
    "for i in range(3,20000):\n",
    "    b = tri_num(i)\n",
    "    n = np.arange(1,int(sqrt(b)),dtype =np.uint32)\n",
    "    t = np.mod(b,n)==0\n",
    "    dc = 2* (t.sum())\n",
    "    if dc>600:\n",
    "        break\n",
    "print(tri_num(i),i)"
   ]
  },
  {
   "cell_type": "code",
   "execution_count": 20,
   "metadata": {
    "collapsed": false
   },
   "outputs": [
    {
     "data": {
      "text/plain": [
       "100"
      ]
     },
     "execution_count": 20,
     "metadata": {},
     "output_type": "execute_result"
    }
   ],
   "source": [
    "divisors_count(199990000 )"
   ]
  },
  {
   "cell_type": "markdown",
   "metadata": {
    "collapsed": true
   },
   "source": [
    "***\n",
    "## PEP13\n",
    "### pure python"
   ]
  },
  {
   "cell_type": "code",
   "execution_count": 21,
   "metadata": {
    "collapsed": true
   },
   "outputs": [],
   "source": [
    "nums= '''37107287533902102798797998220837590246510135740250\n",
    "46376937677490009712648124896970078050417018260538\n",
    "74324986199524741059474233309513058123726617309629\n",
    "91942213363574161572522430563301811072406154908250\n",
    "23067588207539346171171980310421047513778063246676\n",
    "89261670696623633820136378418383684178734361726757\n",
    "28112879812849979408065481931592621691275889832738\n",
    "44274228917432520321923589422876796487670272189318\n",
    "47451445736001306439091167216856844588711603153276\n",
    "70386486105843025439939619828917593665686757934951\n",
    "62176457141856560629502157223196586755079324193331\n",
    "64906352462741904929101432445813822663347944758178\n",
    "92575867718337217661963751590579239728245598838407\n",
    "58203565325359399008402633568948830189458628227828\n",
    "80181199384826282014278194139940567587151170094390\n",
    "35398664372827112653829987240784473053190104293586\n",
    "86515506006295864861532075273371959191420517255829\n",
    "71693888707715466499115593487603532921714970056938\n",
    "54370070576826684624621495650076471787294438377604\n",
    "53282654108756828443191190634694037855217779295145\n",
    "36123272525000296071075082563815656710885258350721\n",
    "45876576172410976447339110607218265236877223636045\n",
    "17423706905851860660448207621209813287860733969412\n",
    "81142660418086830619328460811191061556940512689692\n",
    "51934325451728388641918047049293215058642563049483\n",
    "62467221648435076201727918039944693004732956340691\n",
    "15732444386908125794514089057706229429197107928209\n",
    "55037687525678773091862540744969844508330393682126\n",
    "18336384825330154686196124348767681297534375946515\n",
    "80386287592878490201521685554828717201219257766954\n",
    "78182833757993103614740356856449095527097864797581\n",
    "16726320100436897842553539920931837441497806860984\n",
    "48403098129077791799088218795327364475675590848030\n",
    "87086987551392711854517078544161852424320693150332\n",
    "59959406895756536782107074926966537676326235447210\n",
    "69793950679652694742597709739166693763042633987085\n",
    "41052684708299085211399427365734116182760315001271\n",
    "65378607361501080857009149939512557028198746004375\n",
    "35829035317434717326932123578154982629742552737307\n",
    "94953759765105305946966067683156574377167401875275\n",
    "88902802571733229619176668713819931811048770190271\n",
    "25267680276078003013678680992525463401061632866526\n",
    "36270218540497705585629946580636237993140746255962\n",
    "24074486908231174977792365466257246923322810917141\n",
    "91430288197103288597806669760892938638285025333403\n",
    "34413065578016127815921815005561868836468420090470\n",
    "23053081172816430487623791969842487255036638784583\n",
    "11487696932154902810424020138335124462181441773470\n",
    "63783299490636259666498587618221225225512486764533\n",
    "67720186971698544312419572409913959008952310058822\n",
    "95548255300263520781532296796249481641953868218774\n",
    "76085327132285723110424803456124867697064507995236\n",
    "37774242535411291684276865538926205024910326572967\n",
    "23701913275725675285653248258265463092207058596522\n",
    "29798860272258331913126375147341994889534765745501\n",
    "18495701454879288984856827726077713721403798879715\n",
    "38298203783031473527721580348144513491373226651381\n",
    "34829543829199918180278916522431027392251122869539\n",
    "40957953066405232632538044100059654939159879593635\n",
    "29746152185502371307642255121183693803580388584903\n",
    "41698116222072977186158236678424689157993532961922\n",
    "62467957194401269043877107275048102390895523597457\n",
    "23189706772547915061505504953922979530901129967519\n",
    "86188088225875314529584099251203829009407770775672\n",
    "11306739708304724483816533873502340845647058077308\n",
    "82959174767140363198008187129011875491310547126581\n",
    "97623331044818386269515456334926366572897563400500\n",
    "42846280183517070527831839425882145521227251250327\n",
    "55121603546981200581762165212827652751691296897789\n",
    "32238195734329339946437501907836945765883352399886\n",
    "75506164965184775180738168837861091527357929701337\n",
    "62177842752192623401942399639168044983993173312731\n",
    "32924185707147349566916674687634660915035914677504\n",
    "99518671430235219628894890102423325116913619626622\n",
    "73267460800591547471830798392868535206946944540724\n",
    "76841822524674417161514036427982273348055556214818\n",
    "97142617910342598647204516893989422179826088076852\n",
    "87783646182799346313767754307809363333018982642090\n",
    "10848802521674670883215120185883543223812876952786\n",
    "71329612474782464538636993009049310363619763878039\n",
    "62184073572399794223406235393808339651327408011116\n",
    "66627891981488087797941876876144230030984490851411\n",
    "60661826293682836764744779239180335110989069790714\n",
    "85786944089552990653640447425576083659976645795096\n",
    "66024396409905389607120198219976047599490197230297\n",
    "64913982680032973156037120041377903785566085089252\n",
    "16730939319872750275468906903707539413042652315011\n",
    "94809377245048795150954100921645863754710598436791\n",
    "78639167021187492431995700641917969777599028300699\n",
    "15368713711936614952811305876380278410754449733078\n",
    "40789923115535562561142322423255033685442488917353\n",
    "44889911501440648020369068063960672322193204149535\n",
    "41503128880339536053299340368006977710650566631954\n",
    "81234880673210146739058568557934581403627822703280\n",
    "82616570773948327592232845941706525094512325230608\n",
    "22918802058777319719839450180888072429661980811197\n",
    "77158542502016545090413245809786882778948721859617\n",
    "72107838435069186155435662884062257473692284509516\n",
    "20849603980134001723930671666823555245252804609722\n",
    "53503534226472524250874054075591789781264330331690'''"
   ]
  },
  {
   "cell_type": "code",
   "execution_count": 22,
   "metadata": {
    "collapsed": false
   },
   "outputs": [
    {
     "name": "stdout",
     "output_type": "stream",
     "text": [
      "5000\n"
     ]
    }
   ],
   "source": [
    "numlist =''\n",
    "for i in nums:\n",
    "    if i.isdigit():\n",
    "        numlist +=i\n",
    "print(len(numlist))"
   ]
  },
  {
   "cell_type": "code",
   "execution_count": 23,
   "metadata": {
    "collapsed": false
   },
   "outputs": [
    {
     "name": "stdout",
     "output_type": "stream",
     "text": [
      "5537376230390876637302048746832985971773659831892672\n",
      "52\n"
     ]
    }
   ],
   "source": [
    "summ = 0\n",
    "for x in range(0,5000,50):\n",
    "    c=int(numlist[x:50+x])\n",
    "    summ =summ+c\n",
    "print(summ)\n",
    "print(len(str(summ)))"
   ]
  },
  {
   "cell_type": "code",
   "execution_count": 24,
   "metadata": {
    "collapsed": false
   },
   "outputs": [
    {
     "data": {
      "text/plain": [
       "5537376230"
      ]
     },
     "execution_count": 24,
     "metadata": {},
     "output_type": "execute_result"
    }
   ],
   "source": [
    "summ//(10**42)"
   ]
  },
  {
   "cell_type": "markdown",
   "metadata": {},
   "source": [
    "### numpy version"
   ]
  },
  {
   "cell_type": "code",
   "execution_count": 25,
   "metadata": {
    "collapsed": false
   },
   "outputs": [],
   "source": [
    "digits =[int(i) for i in numlist]\n",
    "digi_np = np.array(digits)"
   ]
  },
  {
   "cell_type": "code",
   "execution_count": 26,
   "metadata": {
    "collapsed": false
   },
   "outputs": [],
   "source": [
    "d =digi_np.reshape(100,50)  # 变形"
   ]
  },
  {
   "cell_type": "code",
   "execution_count": 27,
   "metadata": {
    "collapsed": false
   },
   "outputs": [
    {
     "name": "stdout",
     "output_type": "stream",
     "text": [
      "5537376230\n"
     ]
    }
   ],
   "source": [
    "prev = d[::,-1].sum()\n",
    "res = ''\n",
    "for i in list(range(0,49))[::-1]:\n",
    "    res += str(prev)[-1]\n",
    "    prev = prev//10 + d[::,i].sum()\n",
    "    #print(prev)\n",
    "prev\n",
    "answer = str(prev)+res[::-1]\n",
    "print(answer[0:10])\n",
    "## 从后到前,留尾数,其余进位,最后全保留."
   ]
  },
  {
   "cell_type": "markdown",
   "metadata": {},
   "source": [
    "## answer 5537376230390876637302048746832985971773659831892672"
   ]
  },
  {
   "cell_type": "markdown",
   "metadata": {},
   "source": [
    "***\n",
    "***\n",
    "## PEP13\n",
    "#### Longest Collatz sequence\n",
    "The following iterative sequence is defined for the set of positive integers:\n",
    "\n",
    "n → n/2 (n is even)\n",
    "n → 3n + 1 (n is odd)\n",
    "\n",
    "Using the rule above and starting with 13, we generate the following sequence:\n",
    "\n",
    "13 → 40 → 20 → 10 → 5 → 16 → 8 → 4 → 2 → 1\n",
    "\n",
    "It can be seen that this sequence (starting at 13 and finishing at 1) contains 10 terms. Although it has not been proved yet (Collatz Problem), it is thought that all starting numbers finish at 1.\n",
    "\n",
    "Which starting number, under one million, produces the longest chain?\n",
    "\n",
    "NOTE: Once the chain starts the terms are allowed to go above one million."
   ]
  },
  {
   "cell_type": "markdown",
   "metadata": {},
   "source": [
    "### pure python \n",
    "#### slow version"
   ]
  },
  {
   "cell_type": "code",
   "execution_count": 28,
   "metadata": {
    "collapsed": false
   },
   "outputs": [],
   "source": [
    "def sq(n): \n",
    "    sq_list = []\n",
    "    sq_list.append(n)\n",
    "    while n !=1:\n",
    "        if n%2==0:\n",
    "            n=n//2\n",
    "            sq_list.append(n)\n",
    "        if n%2 ==1 and n!=1:\n",
    "            n = 3*n + 1\n",
    "            sq_list.append(n)\n",
    "    return sq_list\n",
    "def main():\n",
    "    max_length=1    \n",
    "    match = [1,1]\n",
    "    x=1\n",
    "    while x<10**6:\n",
    "        if len(sq(x))>max_length:\n",
    "            max_length = len(sq(x))\n",
    "            match[0]=x\n",
    "            match[1]=len(sq(x))\n",
    "        x += 1\n",
    "    return match\n",
    "#main() \n",
    "#[837799, 525] takes more than 1 minutes"
   ]
  },
  {
   "cell_type": "code",
   "execution_count": 29,
   "metadata": {
    "collapsed": false
   },
   "outputs": [
    {
     "data": {
      "text/plain": [
       "6"
      ]
     },
     "execution_count": 29,
     "metadata": {},
     "output_type": "execute_result"
    }
   ],
   "source": [
    "def sq_len(n):\n",
    "    length = 1\n",
    "    while n!=1:\n",
    "        if n%2 ==0:\n",
    "            n = n//2\n",
    "            length +=1\n",
    "        if n%2 ==1 and n!=1:\n",
    "            n = 3*n+1\n",
    "            length +=1\n",
    "    return length\n",
    "sq_len(5)"
   ]
  },
  {
   "cell_type": "code",
   "execution_count": 30,
   "metadata": {
    "collapsed": false
   },
   "outputs": [
    {
     "name": "stdout",
     "output_type": "stream",
     "text": [
      "time cost:0.000081\n"
     ]
    }
   ],
   "source": [
    "def main2():\n",
    "    max_length = 0\n",
    "    x=1\n",
    "    answer = 0\n",
    "    while x<10**6:\n",
    "        if sq_len(x)>max_length:\n",
    "            max_length = sq_len(x)\n",
    "            answer = x\n",
    "        x += 1\n",
    "    return answer, max_length\n",
    "\n",
    "from time import clock\n",
    "start = clock()\n",
    "#print(main2())    \n",
    "end = clock()\n",
    "print(\"time cost:%f\" %(end-start))\n",
    "\n",
    "#time cost 52 second"
   ]
  },
  {
   "cell_type": "markdown",
   "metadata": {},
   "source": [
    "#### fast version"
   ]
  },
  {
   "cell_type": "code",
   "execution_count": 31,
   "metadata": {
    "collapsed": false
   },
   "outputs": [
    {
     "name": "stdout",
     "output_type": "stream",
     "text": [
      "(1, 1)\n",
      "(2, 2)\n",
      "(3, 8)\n",
      "(4, 3)\n",
      "(5, 6)\n",
      "(6, 9)\n",
      "(7, 17)\n",
      "(8, 4)\n",
      "(9, 20)\n",
      "(10, 7)\n",
      "(11, 15)\n",
      "(12, 10)\n",
      "(13, 10)\n",
      "(14, 18)\n",
      "(15, 18)\n",
      "(16, 5)\n",
      "(17, 13)\n",
      "(18, 21)\n",
      "(19, 21)\n",
      "(20, 8)\n",
      "(21, 8)\n",
      "(22, 16)\n",
      "(23, 16)\n",
      "(24, 11)\n",
      "(25, 24)\n",
      "(26, 11)\n",
      "(27, 112)\n",
      "(28, 19)\n",
      "(29, 19)\n",
      "(30, 19)\n",
      "(31, 107)\n",
      "(32, 6)\n",
      "(33, 27)\n",
      "(34, 14)\n",
      "(35, 14)\n",
      "(36, 22)\n",
      "(37, 22)\n",
      "(38, 22)\n",
      "(39, 35)\n"
     ]
    }
   ],
   "source": [
    "a = [sq_len(i) for i in range(1,40)]\n",
    "b = [i for i in range(1,40)]\n",
    "z = zip(b,a)\n",
    "for i in z:\n",
    "    print(i)"
   ]
  },
  {
   "cell_type": "markdown",
   "metadata": {},
   "source": [
    "## recursion + cache \n"
   ]
  },
  {
   "cell_type": "code",
   "execution_count": 32,
   "metadata": {
    "collapsed": false
   },
   "outputs": [
    {
     "name": "stdout",
     "output_type": "stream",
     "text": [
      "(525, 837799)\n",
      "time cost:6.403859\n"
     ]
    }
   ],
   "source": [
    "from functools import lru_cache as cache\n",
    "\n",
    "@cache(maxsize=None)\n",
    "def Collatz(n):\n",
    "    if n==1:\n",
    "        return 1\n",
    "    else:\n",
    "        if n%2 ==0:\n",
    "            return Collatz(n//2)+1\n",
    "        if n%2==1:\n",
    "            return Collatz(3*n + 1)+1\n",
    "\n",
    "def main3():\n",
    "    return max((Collatz(n), n) for n in range(1, 10**6))\n",
    "\n",
    "from time import clock\n",
    "start = clock()\n",
    "print(main3())    \n",
    "end = clock()\n",
    "print(\"time cost:%f\" %(end-start))"
   ]
  },
  {
   "cell_type": "code",
   "execution_count": 33,
   "metadata": {
    "collapsed": false
   },
   "outputs": [
    {
     "name": "stdout",
     "output_type": "stream",
     "text": [
      "(525, 837799)\n",
      "time cost:6.116513\n"
     ]
    }
   ],
   "source": [
    "from functools import lru_cache\n",
    "\n",
    "@lru_cache(maxsize=None)\n",
    "def collatz_len(n):\n",
    "    if n == 1: \n",
    "        return 1\n",
    "    return 1 + collatz_len(3*n+1 if n%2 else n//2)\n",
    "\n",
    "from time import clock\n",
    "start = clock()\n",
    "print(max((collatz_len(n), n) for n in range(1, 10**6)))   \n",
    "end = clock()\n",
    "print(\"time cost:%f\" %(end-start))\n"
   ]
  },
  {
   "cell_type": "code",
   "execution_count": 34,
   "metadata": {
    "collapsed": false
   },
   "outputs": [
    {
     "name": "stdout",
     "output_type": "stream",
     "text": [
      "(837799, 525)\n",
      "time cost:2.948319\n"
     ]
    }
   ],
   "source": [
    "def next(n):\n",
    "    if n % 2:\n",
    "        return 3 * n + 1\n",
    "    else:\n",
    "        return n // 2\n",
    "\n",
    "class ChainCache:\n",
    "    def __init__(self):\n",
    "        self.cache = {}\n",
    "\n",
    "    def __call__(self, n):\n",
    "        if n == 1:\n",
    "            return 1\n",
    "        elif n in self.cache:\n",
    "            return self.cache[n]\n",
    "        else:\n",
    "            c = self.__call__(next(n))\n",
    "            self.cache[n] = c + 1\n",
    "            return c + 1\n",
    "\n",
    "chainlen = ChainCache()\n",
    "\n",
    "def maxlen(x):\n",
    "    m = 0\n",
    "    v = 0\n",
    "    for i in range(1, x):\n",
    "        l = chainlen(i)\n",
    "        if l > m:\n",
    "            m = l\n",
    "            v = i\n",
    "    return v, m\n",
    "\n",
    "\n",
    "from time import clock\n",
    "start = clock()\n",
    "print(maxlen(1000000))  \n",
    "end = clock()\n",
    "print(\"time cost:%f\" %(end-start))\n"
   ]
  },
  {
   "cell_type": "markdown",
   "metadata": {},
   "source": [
    "### numpy version"
   ]
  },
  {
   "cell_type": "code",
   "execution_count": 35,
   "metadata": {
    "collapsed": true
   },
   "outputs": [],
   "source": [
    "# a way to get collatz squence\n",
    "def colla_sq_np(x):\n",
    "    colla = np.zeros(800,dtype =np.uint32)\n",
    "    colla[0]=x\n",
    "    for i in range(1,800):\n",
    "        if colla[i-1]==1:\n",
    "            break\n",
    "        if colla[i-1]%2 ==0:\n",
    "            colla[i] =colla[i-1]//2\n",
    "        else:\n",
    "            colla[i] =colla[i-1]*3 +1\n",
    "    idx = colla>=1\n",
    "    t= colla[idx]\n",
    "    return t"
   ]
  },
  {
   "cell_type": "code",
   "execution_count": 36,
   "metadata": {
    "collapsed": false
   },
   "outputs": [],
   "source": [
    "def change(x):\n",
    "    if x==1:\n",
    "        return 1\n",
    "    else:\n",
    "        if x%2==0:\n",
    "            return x//2\n",
    "        else:\n",
    "            return 3*x + 1\n",
    "        \n",
    "ch = np.frompyfunc(change,1,1,dtype = np.uint64)"
   ]
  },
  {
   "cell_type": "code",
   "execution_count": 37,
   "metadata": {
    "collapsed": true
   },
   "outputs": [],
   "source": [
    "def max_len(k):\n",
    "    na = np.arange(1,k+1,dtype = np.int32)\n",
    "    ct=2 # include number itself and 1\n",
    "    while 1:\n",
    "        ct+=1\n",
    "        na = ch(na)\n",
    "        if na.sum()==k+1:\n",
    "            break\n",
    "    match_pos = np.where(na>1)\n",
    "    print(match_pos[0]+1,ct)\n",
    "    return match_pos[0]+1"
   ]
  },
  {
   "cell_type": "code",
   "execution_count": 38,
   "metadata": {
    "collapsed": false
   },
   "outputs": [
    {
     "name": "stdout",
     "output_type": "stream",
     "text": [
      "[77031] 351\n",
      "[77031] 351\n",
      "[77031] 351\n",
      "[77031] 351\n",
      "1 loop, best of 3: 9.15 s per loop\n"
     ]
    }
   ],
   "source": [
    "%%timeit\n",
    "max_len(10**5+1)  "
   ]
  },
  {
   "cell_type": "code",
   "execution_count": 39,
   "metadata": {
    "collapsed": false
   },
   "outputs": [
    {
     "name": "stdout",
     "output_type": "stream",
     "text": [
      "[6171] 262\n",
      "[6171] 262\n",
      "[6171] 262\n",
      "[6171] 262\n",
      "1 loop, best of 3: 676 ms per loop\n"
     ]
    }
   ],
   "source": [
    "%%timeit\n",
    "max_len(10**4)"
   ]
  },
  {
   "cell_type": "code",
   "execution_count": 40,
   "metadata": {
    "collapsed": false
   },
   "outputs": [
    {
     "name": "stdout",
     "output_type": "stream",
     "text": [
      "time cost:0.000032\n"
     ]
    }
   ],
   "source": [
    "from time import clock\n",
    "start = clock()\n",
    "#print(max_len(10**6+1))\n",
    "end = clock()\n",
    "print(\"time cost:%f\" %(end-start))\n",
    "\n",
    "#837799 196s"
   ]
  },
  {
   "cell_type": "code",
   "execution_count": 41,
   "metadata": {
    "collapsed": false
   },
   "outputs": [
    {
     "data": {
      "text/plain": [
       "array([    837799,    2513398,    1256699,    3770098,    1885049,\n",
       "          5655148,    2827574,    1413787,    4241362,    2120681,\n",
       "          6362044,    3181022,    1590511,    4771534,    2385767,\n",
       "          7157302,    3578651,   10735954,    5367977,   16103932,\n",
       "          8051966,    4025983,   12077950,    6038975,   18116926,\n",
       "          9058463,   27175390,   13587695,   40763086,   20381543,\n",
       "         61144630,   30572315,   91716946,   45858473,  137575420,\n",
       "         68787710,   34393855,  103181566,   51590783,  154772350,\n",
       "         77386175,  232158526,  116079263,  348237790,  174118895,\n",
       "        522356686,  261178343,  783535030,  391767515, 1175302546,\n",
       "        587651273, 1762953820,  881476910,  440738455, 1322215366,\n",
       "        661107683, 1983323050,  991661525, 2974984576, 1487492288,\n",
       "        743746144,  371873072,  185936536,   92968268,   46484134,\n",
       "         23242067,   69726202,   34863101,  104589304,   52294652,\n",
       "         26147326,   13073663,   39220990,   19610495,   58831486,\n",
       "         29415743,   88247230,   44123615,  132370846,   66185423,\n",
       "        198556270,   99278135,  297834406,  148917203,  446751610,\n",
       "        223375805,  670127416,  335063708,  167531854,   83765927,\n",
       "        251297782,  125648891,  376946674,  188473337,  565420012,\n",
       "        282710006,  141355003,  424065010,  212032505,  636097516,\n",
       "        318048758,  159024379,  477073138,  238536569,  715609708,\n",
       "        357804854,  178902427,  536707282,  268353641,  805060924,\n",
       "        402530462,  201265231,  603795694,  301897847,  905693542,\n",
       "        452846771, 1358540314,  679270157, 2037810472, 1018905236,\n",
       "        509452618,  254726309,  764178928,  382089464,  191044732,\n",
       "         95522366,   47761183,  143283550,   71641775,  214925326,\n",
       "        107462663,  322387990,  161193995,  483581986,  241790993,\n",
       "        725372980,  362686490,  181343245,  544029736,  272014868,\n",
       "        136007434,   68003717,  204011152,  102005576,   51002788,\n",
       "         25501394,   12750697,   38252092,   19126046,    9563023,\n",
       "         28689070,   14344535,   43033606,   21516803,   64550410,\n",
       "         32275205,   96825616,   48412808,   24206404,   12103202,\n",
       "          6051601,   18154804,    9077402,    4538701,   13616104,\n",
       "          6808052,    3404026,    1702013,    5106040,    2553020,\n",
       "          1276510,     638255,    1914766,     957383,    2872150,\n",
       "          1436075,    4308226,    2154113,    6462340,    3231170,\n",
       "          1615585,    4846756,    2423378,    1211689,    3635068,\n",
       "          1817534,     908767,    2726302,    1363151,    4089454,\n",
       "          2044727,    6134182,    3067091,    9201274,    4600637,\n",
       "         13801912,    6900956,    3450478,    1725239,    5175718,\n",
       "          2587859,    7763578,    3881789,   11645368,    5822684,\n",
       "          2911342,    1455671,    4367014,    2183507,    6550522,\n",
       "          3275261,    9825784,    4912892,    2456446,    1228223,\n",
       "          3684670,    1842335,    5527006,    2763503,    8290510,\n",
       "          4145255,   12435766,    6217883,   18653650,    9326825,\n",
       "         27980476,   13990238,    6995119,   20985358,   10492679,\n",
       "         31478038,   15739019,   47217058,   23608529,   70825588,\n",
       "         35412794,   17706397,   53119192,   26559596,   13279798,\n",
       "          6639899,   19919698,    9959849,   29879548,   14939774,\n",
       "          7469887,   22409662,   11204831,   33614494,   16807247,\n",
       "         50421742,   25210871,   75632614,   37816307,  113448922,\n",
       "         56724461,  170173384,   85086692,   42543346,   21271673,\n",
       "         63815020,   31907510,   15953755,   47861266,   23930633,\n",
       "         71791900,   35895950,   17947975,   53843926,   26921963,\n",
       "         80765890,   40382945,  121148836,   60574418,   30287209,\n",
       "         90861628,   45430814,   22715407,   68146222,   34073111,\n",
       "        102219334,   51109667,  153329002,   76664501,  229993504,\n",
       "        114996752,   57498376,   28749188,   14374594,    7187297,\n",
       "         21561892,   10780946,    5390473,   16171420,    8085710,\n",
       "          4042855,   12128566,    6064283,   18192850,    9096425,\n",
       "         27289276,   13644638,    6822319,   20466958,   10233479,\n",
       "         30700438,   15350219,   46050658,   23025329,   69075988,\n",
       "         34537994,   17268997,   51806992,   25903496,   12951748,\n",
       "          6475874,    3237937,    9713812,    4856906,    2428453,\n",
       "          7285360,    3642680,    1821340,     910670,     455335,\n",
       "          1366006,     683003,    2049010,    1024505,    3073516,\n",
       "          1536758,     768379,    2305138,    1152569,    3457708,\n",
       "          1728854,     864427,    2593282,    1296641,    3889924,\n",
       "          1944962,     972481,    2917444,    1458722,     729361,\n",
       "          2188084,    1094042,     547021,    1641064,     820532,\n",
       "           410266,     205133,     615400,     307700,     153850,\n",
       "            76925,     230776,     115388,      57694,      28847,\n",
       "            86542,      43271,     129814,      64907,     194722,\n",
       "            97361,     292084,     146042,      73021,     219064,\n",
       "           109532,      54766,      27383,      82150,      41075,\n",
       "           123226,      61613,     184840,      92420,      46210,\n",
       "            23105,      69316,      34658,      17329,      51988,\n",
       "            25994,      12997,      38992,      19496,       9748,\n",
       "             4874,       2437,       7312,       3656,       1828,\n",
       "              914,        457,       1372,        686,        343,\n",
       "             1030,        515,       1546,        773,       2320,\n",
       "             1160,        580,        290,        145,        436,\n",
       "              218,        109,        328,        164,         82,\n",
       "               41,        124,         62,         31,         94,\n",
       "               47,        142,         71,        214,        107,\n",
       "              322,        161,        484,        242,        121,\n",
       "              364,        182,         91,        274,        137,\n",
       "              412,        206,        103,        310,        155,\n",
       "              466,        233,        700,        350,        175,\n",
       "              526,        263,        790,        395,       1186,\n",
       "              593,       1780,        890,        445,       1336,\n",
       "              668,        334,        167,        502,        251,\n",
       "              754,        377,       1132,        566,        283,\n",
       "              850,        425,       1276,        638,        319,\n",
       "              958,        479,       1438,        719,       2158,\n",
       "             1079,       3238,       1619,       4858,       2429,\n",
       "             7288,       3644,       1822,        911,       2734,\n",
       "             1367,       4102,       2051,       6154,       3077,\n",
       "             9232,       4616,       2308,       1154,        577,\n",
       "             1732,        866,        433,       1300,        650,\n",
       "              325,        976,        488,        244,        122,\n",
       "               61,        184,         92,         46,         23,\n",
       "               70,         35,        106,         53,        160,\n",
       "               80,         40,         20,         10,          5,\n",
       "               16,          8,          4,          2,          1], dtype=uint32)"
      ]
     },
     "execution_count": 41,
     "metadata": {},
     "output_type": "execute_result"
    }
   ],
   "source": [
    "colla_sq_np(837799)"
   ]
  },
  {
   "cell_type": "code",
   "execution_count": 47,
   "metadata": {
    "collapsed": false
   },
   "outputs": [
    {
     "data": {
      "text/plain": [
       "2974984576"
      ]
     },
     "execution_count": 47,
     "metadata": {},
     "output_type": "execute_result"
    }
   ],
   "source": [
    "colla_sq_np(837799).max()"
   ]
  },
  {
   "cell_type": "markdown",
   "metadata": {},
   "source": [
    "###  Not fast enough, how to improve?"
   ]
  },
  {
   "cell_type": "code",
   "execution_count": 42,
   "metadata": {
    "collapsed": true
   },
   "outputs": [],
   "source": [
    "def unique2d(a):\n",
    "    x, y = a.T\n",
    "    b = x + y*1.0j \n",
    "    idx = np.unique(b,return_index=True)[1]\n",
    "    return a[idx] \n"
   ]
  },
  {
   "cell_type": "markdown",
   "metadata": {},
   "source": [
    "## above algrithem from internet, very clever!!!"
   ]
  },
  {
   "cell_type": "code",
   "execution_count": 43,
   "metadata": {
    "collapsed": true
   },
   "outputs": [],
   "source": [
    "def NOTone(a):\n",
    "    x,y = a.T\n",
    "    idx = np.unique(y,return_index = True)[1]\n",
    "    return a[idx]"
   ]
  },
  {
   "cell_type": "code",
   "execution_count": 44,
   "metadata": {
    "collapsed": false
   },
   "outputs": [],
   "source": [
    "def max_colla_np(LIM):\n",
    "    na = np.array((list([i]*2 for i in range(1,LIM+1))),dtype = np.uint64)\n",
    "    while 1:\n",
    "        na[::,1]=ch(na[::,1])\n",
    "        na = NOTone(na)  # when left number became 0 ,no need to compute it\n",
    "        if na.size<=4:\n",
    "            break\n",
    "    return na[1][0]"
   ]
  },
  {
   "cell_type": "code",
   "execution_count": 45,
   "metadata": {
    "collapsed": false
   },
   "outputs": [
    {
     "name": "stdout",
     "output_type": "stream",
     "text": [
      "77031\n",
      "77031\n",
      "77031\n",
      "77031\n",
      "1 loop, best of 3: 1.07 s per loop\n"
     ]
    }
   ],
   "source": [
    "%%timeit\n",
    "print(max_colla_np(10**5))"
   ]
  },
  {
   "cell_type": "code",
   "execution_count": 48,
   "metadata": {
    "collapsed": false
   },
   "outputs": [
    {
     "name": "stdout",
     "output_type": "stream",
     "text": [
      "837799\n",
      "837799\n",
      "837799\n",
      "837799\n",
      "1 loop, best of 3: 11.8 s per loop\n"
     ]
    }
   ],
   "source": [
    "%%timeit\n",
    "print(max_colla_np(10**6))"
   ]
  },
  {
   "cell_type": "markdown",
   "metadata": {},
   "source": [
    "## Good !! 12 seconds "
   ]
  },
  {
   "cell_type": "markdown",
   "metadata": {},
   "source": [
    "***\n",
    "***\n",
    "## PEP15\n",
    "Starting in the top left corner of a 2×2 grid, and only being able to move to the right and down, there are exactly 6 routes to the bottom right corner.\n",
    "How many such routes are there through a 20×20 grid?"
   ]
  },
  {
   "cell_type": "markdown",
   "metadata": {},
   "source": [
    "### pure python \n",
    "\n",
    "## recursion + cache "
   ]
  },
  {
   "cell_type": "code",
   "execution_count": 52,
   "metadata": {
    "collapsed": false
   },
   "outputs": [
    {
     "data": {
      "image/png": "[encoded data removed]",
      "text/plain": [
       "<IPython.core.display.Image object>"
      ]
     },
     "execution_count": 52,
     "metadata": {},
     "output_type": "execute_result"
    }
   ],
   "source": [
    "from IPython.display import Image\n",
    "Image(filename='P015.PNG')"
   ]
  },
  {
   "cell_type": "code",
   "execution_count": 53,
   "metadata": {
    "collapsed": true
   },
   "outputs": [],
   "source": [
    "@cache(maxsize = None)\n",
    "def ng_route(x,y):\n",
    "    if x == 0 or y == 0:\n",
    "        return 1\n",
    "    else:\n",
    "        return ng_route(x-1,y)+ng_route(x,y-1)"
   ]
  },
  {
   "cell_type": "code",
   "execution_count": 56,
   "metadata": {
    "collapsed": false
   },
   "outputs": [
    {
     "name": "stdout",
     "output_type": "stream",
     "text": [
      "137846528820\n",
      "time cost:0.000101\n"
     ]
    }
   ],
   "source": [
    "from time import clock\n",
    "start = clock()\n",
    "print(ng_route(20,20))\n",
    "end = clock()\n",
    "print(\"time cost:%f\" %(end-start))"
   ]
  },
  {
   "cell_type": "markdown",
   "metadata": {},
   "source": [
    "### very fast!!"
   ]
  },
  {
   "cell_type": "markdown",
   "metadata": {},
   "source": [
    "## Dynamic Programming +python"
   ]
  },
  {
   "cell_type": "code",
   "execution_count": 136,
   "metadata": {
    "collapsed": false
   },
   "outputs": [
    {
     "name": "stdout",
     "output_type": "stream",
     "text": [
      "137846528820 found in 0.10 milliseconds!\n"
     ]
    }
   ],
   "source": [
    "def main():\n",
    "    import time\n",
    "    start = time.time()\n",
    "    grid = []\n",
    "    for i in range(21):\n",
    "        grid.append([1] * 21)\n",
    "    for i in range(20):### strange !!! 20 can not be a varible! why?\n",
    "        for j in range(20):  \n",
    "            grid[i+1][j+1] = grid[i][j+1] + grid[i+1][j]\n",
    "    print(str(grid[20][20]) + \" found in %s milliseconds!\" % (\"{0:.2f}\".format((time.time() - start) * 100)))\n",
    "\n",
    "main()\n"
   ]
  },
  {
   "cell_type": "markdown",
   "metadata": {},
   "source": [
    "## Dynamic Programming +numpy"
   ]
  },
  {
   "cell_type": "code",
   "execution_count": 133,
   "metadata": {
    "collapsed": false
   },
   "outputs": [
    {
     "name": "stdout",
     "output_type": "stream",
     "text": [
      "137846528820 found in 0.00 milliseconds!\n"
     ]
    }
   ],
   "source": [
    "import time\n",
    "start = time.time()\n",
    "grid = []\n",
    "for i in range(21):\n",
    "    grid.append([1] * 21)\n",
    "for i in range(20):\n",
    "    for j in range(20):\n",
    "        grid[i+1][j+1] = grid[i][j+1] + grid[i+1][j]\n",
    "print(str(grid[20][20]) + \" found in %s milliseconds!\" % (\"{0:.2f}\".format((time.time() - start) * 100)))"
   ]
  },
  {
   "cell_type": "code",
   "execution_count": 135,
   "metadata": {
    "collapsed": false
   },
   "outputs": [
    {
     "name": "stdout",
     "output_type": "stream",
     "text": [
      "[[1, 1, 1, 1, 1, 1, 1, 1, 1, 1, 1, 1, 1, 1, 1, 1, 1, 1, 1, 1, 1], [1, 2, 3, 4, 5, 6, 7, 8, 9, 10, 11, 12, 13, 14, 15, 16, 17, 18, 19, 20, 21], [1, 3, 6, 10, 15, 21, 28, 36, 45, 55, 66, 78, 91, 105, 120, 136, 153, 171, 190, 210, 231], [1, 4, 10, 20, 35, 56, 84, 120, 165, 220, 286, 364, 455, 560, 680, 816, 969, 1140, 1330, 1540, 1771], [1, 5, 15, 35, 70, 126, 210, 330, 495, 715, 1001, 1365, 1820, 2380, 3060, 3876, 4845, 5985, 7315, 8855, 10626], [1, 6, 21, 56, 126, 252, 462, 792, 1287, 2002, 3003, 4368, 6188, 8568, 11628, 15504, 20349, 26334, 33649, 42504, 53130], [1, 7, 28, 84, 210, 462, 924, 1716, 3003, 5005, 8008, 12376, 18564, 27132, 38760, 54264, 74613, 100947, 134596, 177100, 230230], [1, 8, 36, 120, 330, 792, 1716, 3432, 6435, 11440, 19448, 31824, 50388, 77520, 116280, 170544, 245157, 346104, 480700, 657800, 888030], [1, 9, 45, 165, 495, 1287, 3003, 6435, 12870, 24310, 43758, 75582, 125970, 203490, 319770, 490314, 735471, 1081575, 1562275, 2220075, 3108105], [1, 10, 55, 220, 715, 2002, 5005, 11440, 24310, 48620, 92378, 167960, 293930, 497420, 817190, 1307504, 2042975, 3124550, 4686825, 6906900, 10015005], [1, 11, 66, 286, 1001, 3003, 8008, 19448, 43758, 92378, 184756, 352716, 646646, 1144066, 1961256, 3268760, 5311735, 8436285, 13123110, 20030010, 30045015], [1, 12, 78, 364, 1365, 4368, 12376, 31824, 75582, 167960, 352716, 705432, 1352078, 2496144, 4457400, 7726160, 13037895, 21474180, 34597290, 54627300, 84672315], [1, 13, 91, 455, 1820, 6188, 18564, 50388, 125970, 293930, 646646, 1352078, 2704156, 5200300, 9657700, 17383860, 30421755, 51895935, 86493225, 141120525, 225792840], [1, 14, 105, 560, 2380, 8568, 27132, 77520, 203490, 497420, 1144066, 2496144, 5200300, 10400600, 20058300, 37442160, 67863915, 119759850, 206253075, 347373600, 573166440], [1, 15, 120, 680, 3060, 11628, 38760, 116280, 319770, 817190, 1961256, 4457400, 9657700, 20058300, 40116600, 77558760, 145422675, 265182525, 471435600, 818809200, 1391975640], [1, 16, 136, 816, 3876, 15504, 54264, 170544, 490314, 1307504, 3268760, 7726160, 17383860, 37442160, 77558760, 155117520, 300540195, 565722720, 1037158320, 1855967520, 3247943160], [1, 17, 153, 969, 4845, 20349, 74613, 245157, 735471, 2042975, 5311735, 13037895, 30421755, 67863915, 145422675, 300540195, 601080390, 1166803110, 2203961430, 4059928950, 7307872110], [1, 18, 171, 1140, 5985, 26334, 100947, 346104, 1081575, 3124550, 8436285, 21474180, 51895935, 119759850, 265182525, 565722720, 1166803110, 2333606220, 4537567650, 8597496600, 15905368710], [1, 19, 190, 1330, 7315, 33649, 134596, 480700, 1562275, 4686825, 13123110, 34597290, 86493225, 206253075, 471435600, 1037158320, 2203961430, 4537567650, 9075135300, 17672631900, 33578000610], [1, 20, 210, 1540, 8855, 42504, 177100, 657800, 2220075, 6906900, 20030010, 54627300, 141120525, 347373600, 818809200, 1855967520, 4059928950, 8597496600, 17672631900, 35345263800, 68923264410], [1, 21, 231, 1771, 10626, 53130, 230230, 888030, 3108105, 10015005, 30045015, 84672315, 225792840, 573166440, 1391975640, 3247943160, 7307872110, 15905368710, 33578000610, 68923264410, 137846528820]]\n"
     ]
    }
   ],
   "source": [
    "print(grid)"
   ]
  },
  {
   "cell_type": "code",
   "execution_count": 102,
   "metadata": {
    "collapsed": false
   },
   "outputs": [
    {
     "name": "stdout",
     "output_type": "stream",
     "text": [
      "[[    1     1     1     1     1     1     1     1     1     1]\n",
      " [    1     2     3     4     5     6     7     8     9    10]\n",
      " [    1     3     6    10    15    21    28    36    45    55]\n",
      " [    1     4    10    20    35    56    84   120   165   220]\n",
      " [    1     5    15    35    70   126   210   330   495   715]\n",
      " [    1     6    21    56   126   252   462   792  1287  2002]\n",
      " [    1     7    28    84   210   462   924  1716  3003  5005]\n",
      " [    1     8    36   120   330   792  1716  3432  6435 11440]\n",
      " [    1     9    45   165   495  1287  3003  6435 12870 24310]\n",
      " [    1    10    55   220   715  2002  5005 11440 24310 48620]]\n"
     ]
    }
   ],
   "source": [
    "print(ct_routes(10,10))"
   ]
  },
  {
   "cell_type": "code",
   "execution_count": 103,
   "metadata": {
    "collapsed": false
   },
   "outputs": [
    {
     "name": "stdout",
     "output_type": "stream",
     "text": [
      "137846528820\n"
     ]
    }
   ],
   "source": [
    "print(ct_routes(21,21)[-1,-1])"
   ]
  },
  {
   "cell_type": "code",
   "execution_count": 106,
   "metadata": {
    "collapsed": false
   },
   "outputs": [
    {
     "name": "stdout",
     "output_type": "stream",
     "text": [
      "137846528820\n",
      "time cost:0.000886\n"
     ]
    }
   ],
   "source": [
    "from time import clock\n",
    "start = clock()\n",
    "print(ct_routes(21,21)[-1,-1])\n",
    "end = clock()\n",
    "print(\"time cost:%f\" %(end-start))"
   ]
  },
  {
   "cell_type": "code",
   "execution_count": null,
   "metadata": {
    "collapsed": true
   },
   "outputs": [],
   "source": []
  }
 ],
 "metadata": {
  "kernelspec": {
   "display_name": "Python 3",
   "language": "python",
   "name": "python3"
  },
  "language_info": {
   "codemirror_mode": {
    "name": "ipython",
    "version": 3
   },
   "file_extension": ".py",
   "mimetype": "text/x-python",
   "name": "python",
   "nbconvert_exporter": "python",
   "pygments_lexer": "ipython3",
   "version": "3.4.4"
  }
 },
 "nbformat": 4,
 "nbformat_minor": 0
}
