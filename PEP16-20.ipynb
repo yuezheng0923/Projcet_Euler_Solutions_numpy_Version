{
 "cells": [
  {
   "cell_type": "markdown",
   "metadata": {},
   "source": [
    "## PEP16\n",
    "2^15 = 32768 and the sum of its digits is 3 + 2 + 7 + 6 + 8 = 26.\n",
    "\n",
    "What is the sum of the digits of the number 2^1000?"
   ]
  },
  {
   "cell_type": "markdown",
   "metadata": {},
   "source": [
    "###   Pure Python"
   ]
  },
  {
   "cell_type": "code",
   "execution_count": 1,
   "metadata": {
    "collapsed": false
   },
   "outputs": [
    {
     "name": "stdout",
     "output_type": "stream",
     "text": [
      "1366\n"
     ]
    }
   ],
   "source": [
    "print( sum(map(int, str(2 ** 1000))))"
   ]
  },
  {
   "cell_type": "code",
   "execution_count": 2,
   "metadata": {
    "collapsed": false
   },
   "outputs": [
    {
     "name": "stdout",
     "output_type": "stream",
     "text": [
      "10000 loops, best of 3: 64.1 µs per loop\n"
     ]
    }
   ],
   "source": [
    "%%timeit\n",
    "sum(map(int, str(2 ** 1000)))"
   ]
  },
  {
   "cell_type": "markdown",
   "metadata": {},
   "source": [
    "### numpy version"
   ]
  },
  {
   "cell_type": "code",
   "execution_count": 3,
   "metadata": {
    "collapsed": false
   },
   "outputs": [
    {
     "name": "stdout",
     "output_type": "stream",
     "text": [
      "1366\n",
      "time cost 0.088323\n"
     ]
    }
   ],
   "source": [
    "import numpy as np\n",
    "\n",
    "def pow2(k):\n",
    "    x = np.array([0]*k+[1]) # initialize [0,0,0,...,1]\n",
    "    for i in range(0,k):\n",
    "        temp = x*2//10       \n",
    "        push = np.zeros(k+1,dtype = np.uint32) \n",
    "        push[0:k] = temp[1:k+1] ## 找出要进位的位置 \n",
    "        x =  x*2%10\n",
    "        x = x+push  # 进位前移\n",
    "    return x\n",
    "\n",
    "from time import clock\n",
    "start = clock()\n",
    "print(pow2(1000).sum())\n",
    "end = clock()\n",
    "print(\"time cost %f\" %(end- start))"
   ]
  },
  {
   "cell_type": "code",
   "execution_count": 4,
   "metadata": {
    "collapsed": false
   },
   "outputs": [
    {
     "data": {
      "text/plain": [
       "array([0, 0, 0, 0, 0, 0, 0, 0, 0, 0, 0, 0, 0, 0, 0, 0, 4, 1, 9, 4, 3, 0, 4], dtype=int64)"
      ]
     },
     "execution_count": 4,
     "metadata": {},
     "output_type": "execute_result"
    }
   ],
   "source": [
    "pow2(22)"
   ]
  },
  {
   "cell_type": "code",
   "execution_count": 5,
   "metadata": {
    "collapsed": false
   },
   "outputs": [
    {
     "data": {
      "text/plain": [
       "array([0, 0, 0, 0, 0, 0, 0, 0, 0, 0, 0, 0, 0, 0, 0, 0, 0, 0, 0, 0, 0, 0, 0,\n",
       "       0, 0, 0, 0, 0, 0, 0, 0, 0, 0, 0, 0, 1, 1, 2, 5, 8, 9, 9, 9, 0, 6, 8,\n",
       "       4, 2, 6, 2, 4], dtype=int64)"
      ]
     },
     "execution_count": 5,
     "metadata": {},
     "output_type": "execute_result"
    }
   ],
   "source": [
    "pow2(50)"
   ]
  },
  {
   "cell_type": "markdown",
   "metadata": {
    "collapsed": true
   },
   "source": [
    "***\n",
    "***\n",
    "## PEP18\n",
    "\n",
    "By starting at the top of the triangle below and moving to adjacent numbers on the row below, the maximum total from top to bottom is 23.\n",
    "\n",
    "3\n",
    "\n",
    "7 4\n",
    "\n",
    "2 4 6\n",
    "\n",
    "8 5 9 3\n",
    "\n",
    "That is, 3 + 7 + 4 + 9 = 23.\n",
    "\n",
    "Find the maximum total from top to bottom of the triangle below:\n",
    "\n",
    "75\n",
    "\n",
    "95 64\n",
    "\n",
    "17 47 82\n",
    "\n",
    "18 35 87 10\n",
    "\n",
    "20 04 82 47 65\n",
    "\n",
    "19 01 23 75 03 34\n",
    "\n",
    "88 02 77 73 07 63 67\n",
    "\n",
    "99 65 04 28 06 16 70 92\n",
    "\n",
    "41 41 26 56 83 40 80 70 33\n",
    "\n",
    "41 48 72 33 47 32 37 16 94 29\n",
    "\n",
    "53 71 44 65 25 43 91 52 97 51 14\n",
    "\n",
    "70 11 33 28 77 73 17 78 39 68 17 57\n",
    "\n",
    "91 71 52 38 17 14 91 43 58 50 27 29 48\n",
    "\n",
    "63 66 04 68 89 53 67 30 73 16 69 87 40 31\n",
    "\n",
    "04 62 98 27 23 09 70 98 73 93 38 53 60 04 23\n",
    "\n",
    "NOTE: As there are only 16384 routes, it is possible to solve this problem by trying every route. However, Problem 67, is the same challenge with a triangle containing one-hundred rows; it cannot be solved by brute force, and requires a clever method! ;o)"
   ]
  },
  {
   "cell_type": "markdown",
   "metadata": {},
   "source": [
    "### python + numpy version"
   ]
  },
  {
   "cell_type": "code",
   "execution_count": 5,
   "metadata": {
    "collapsed": false
   },
   "outputs": [
    {
     "data": {
      "text/plain": [
       "[75,\n",
       " [95, 64],\n",
       " [17, 47, 82],\n",
       " [18, 35, 87, 10],\n",
       " [20, 4, 82, 47, 65],\n",
       " [19, 1, 23, 75, 3, 34],\n",
       " [88, 2, 77, 73, 7, 63, 67],\n",
       " [99, 65, 4, 28, 6, 16, 70, 92],\n",
       " [41, 41, 26, 56, 83, 40, 80, 70, 33],\n",
       " [41, 48, 72, 33, 47, 32, 37, 16, 94, 29],\n",
       " [53, 71, 44, 65, 25, 43, 91, 52, 97, 51, 14],\n",
       " [70, 11, 33, 28, 77, 73, 17, 78, 39, 68, 17, 57],\n",
       " [91, 71, 52, 38, 17, 14, 91, 43, 58, 50, 27, 29, 48],\n",
       " [63, 66, 4, 68, 89, 53, 67, 30, 73, 16, 69, 87, 40, 31],\n",
       " [4, 62, 98, 27, 23, 9, 70, 98, 73, 93, 38, 53, 60, 4, 23]]"
      ]
     },
     "execution_count": 5,
     "metadata": {},
     "output_type": "execute_result"
    }
   ],
   "source": [
    "from io import StringIO\n",
    "lst =[]\n",
    "f = open(\"PEP18.txt\")\n",
    "for line in f.readlines():\n",
    "    c = StringIO(line)\n",
    "    a = np.loadtxt(c,dtype = np.int32)\n",
    "    lst.append(a.tolist())\n",
    "    \n",
    "lst"
   ]
  },
  {
   "cell_type": "code",
   "execution_count": 6,
   "metadata": {
    "collapsed": false
   },
   "outputs": [
    {
     "name": "stdout",
     "output_type": "stream",
     "text": [
      "[75, [995, 999], [818, 900, 935], [704, 801, 853, 792], [686, 640, 766, 731, 782], [666, 614, 636, 684, 660, 717], [647, 501, 613, 609, 533, 657, 683], [559, 499, 479, 536, 514, 526, 594, 616], [460, 434, 419, 475, 508, 470, 510, 524, 487], [419, 365, 393, 387, 419, 425, 430, 376, 454, 322], [378, 317, 231, 321, 354, 372, 393, 354, 360, 293, 247], [325, 246, 187, 178, 256, 329, 273, 302, 263, 242, 193, 233], [255, 235, 154, 150, 140, 179, 256, 209, 224, 172, 174, 176, 148], [125, 164, 102, 95, 112, 123, 165, 128, 166, 109, 122, 147, 100, 54], [4, 62, 98, 27, 23, 9, 70, 98, 73, 93, 38, 53, 60, 4, 23]]\n"
     ]
    }
   ],
   "source": [
    "for i in range(13,0,-1):\n",
    "    for j in range(0,len(lst[i])):\n",
    "        lst[i][j] = lst[i][j]+max(lst[i+1][j],lst[i+1][j+1])\n",
    "print(lst)"
   ]
  },
  {
   "cell_type": "code",
   "execution_count": 7,
   "metadata": {
    "collapsed": false
   },
   "outputs": [
    {
     "data": {
      "text/plain": [
       "1074"
      ]
     },
     "execution_count": 7,
     "metadata": {},
     "output_type": "execute_result"
    }
   ],
   "source": [
    "75+999"
   ]
  },
  {
   "cell_type": "markdown",
   "metadata": {
    "collapsed": true
   },
   "source": [
    "## PEP20"
   ]
  },
  {
   "cell_type": "code",
   "execution_count": 8,
   "metadata": {
    "collapsed": false
   },
   "outputs": [
    {
     "data": {
      "text/plain": [
       "648"
      ]
     },
     "execution_count": 8,
     "metadata": {},
     "output_type": "execute_result"
    }
   ],
   "source": [
    "from math import factorial\n",
    "sum([int(i) for i in str(factorial(100))])"
   ]
  },
  {
   "cell_type": "markdown",
   "metadata": {},
   "source": [
    "## PEP21"
   ]
  },
  {
   "cell_type": "code",
   "execution_count": 20,
   "metadata": {
    "collapsed": true
   },
   "outputs": [],
   "source": [
    "def pds(n):\n",
    "    if n<=1:\n",
    "        return 0\n",
    "    if n==2:\n",
    "        return 1\n",
    "    \"\"\"return sum of proper divisor of n\"\"\"\n",
    "    res =1\n",
    "    for i in range(2,int(n**.5)+1):\n",
    "        if n%i ==0:\n",
    "            res += i\n",
    "            res += n//i\n",
    "    return res"
   ]
  },
  {
   "cell_type": "code",
   "execution_count": 21,
   "metadata": {
    "collapsed": false
   },
   "outputs": [
    {
     "data": {
      "text/plain": [
       "284"
      ]
     },
     "execution_count": 21,
     "metadata": {},
     "output_type": "execute_result"
    }
   ],
   "source": [
    "pds(220)"
   ]
  },
  {
   "cell_type": "code",
   "execution_count": 22,
   "metadata": {
    "collapsed": false
   },
   "outputs": [
    {
     "name": "stdout",
     "output_type": "stream",
     "text": [
      "220\n",
      "284\n",
      "1184\n",
      "1210\n",
      "2620\n",
      "2924\n",
      "5020\n",
      "5564\n",
      "6232\n",
      "6368\n",
      "10744\n",
      "10856\n",
      "12285\n",
      "14595\n",
      "17296\n",
      "18416\n",
      "63020\n",
      "66928\n",
      "66992\n",
      "67095\n",
      "69615\n",
      "71145\n",
      "76084\n",
      "79750\n",
      "87633\n",
      "88730\n",
      "answer: 852810\n"
     ]
    }
   ],
   "source": [
    "total = 0\n",
    "for i in range(2,100000):\n",
    "    a = pds(i)\n",
    "    if pds(a)==i and a!= i:\n",
    "        print(i)\n",
    "        total +=i\n",
    "print(\"answer:\",total)"
   ]
  },
  {
   "cell_type": "markdown",
   "metadata": {},
   "source": [
    "## Numpy Python"
   ]
  },
  {
   "cell_type": "code",
   "execution_count": 37,
   "metadata": {
    "collapsed": true
   },
   "outputs": [],
   "source": [
    "def prop_div(n):\n",
    "    nums = np.arange(1,n//2+1)\n",
    "    div = np.mod(n,nums)\n",
    "    return nums[div==0]"
   ]
  },
  {
   "cell_type": "code",
   "execution_count": 38,
   "metadata": {
    "collapsed": true
   },
   "outputs": [],
   "source": [
    "def pds_np(n):\n",
    "    return prop_div(n).sum()"
   ]
  },
  {
   "cell_type": "code",
   "execution_count": 39,
   "metadata": {
    "collapsed": false
   },
   "outputs": [
    {
     "data": {
      "text/plain": [
       "array([  1,   2,   4,   5,  10,  11,  20,  22,  44,  55, 110])"
      ]
     },
     "execution_count": 39,
     "metadata": {},
     "output_type": "execute_result"
    }
   ],
   "source": [
    "prop_div(220)"
   ]
  },
  {
   "cell_type": "code",
   "execution_count": 40,
   "metadata": {
    "collapsed": false
   },
   "outputs": [
    {
     "data": {
      "text/plain": [
       "284"
      ]
     },
     "execution_count": 40,
     "metadata": {},
     "output_type": "execute_result"
    }
   ],
   "source": [
    "pds_np(220)"
   ]
  },
  {
   "cell_type": "code",
   "execution_count": 41,
   "metadata": {
    "collapsed": true
   },
   "outputs": [],
   "source": [
    "pairs = [[i,i] for i in range(1,10001)]\n",
    "pn = np.array(pairs,dtype = np.int32)"
   ]
  },
  {
   "cell_type": "code",
   "execution_count": 42,
   "metadata": {
    "collapsed": true
   },
   "outputs": [],
   "source": [
    "sumpd = np.frompyfunc(pds_np,1,1)"
   ]
  },
  {
   "cell_type": "code",
   "execution_count": 43,
   "metadata": {
    "collapsed": false
   },
   "outputs": [
    {
     "data": {
      "text/plain": [
       "array([[    1,     0],\n",
       "       [    2,     1],\n",
       "       [    3,     1],\n",
       "       ..., \n",
       "       [ 9998,  5002],\n",
       "       [ 9999,  5913],\n",
       "       [10000, 14211]])"
      ]
     },
     "execution_count": 43,
     "metadata": {},
     "output_type": "execute_result"
    }
   ],
   "source": [
    "pn[::,1] = sumpd(pn[::,1])\n",
    "pn"
   ]
  },
  {
   "cell_type": "code",
   "execution_count": 44,
   "metadata": {
    "collapsed": false
   },
   "outputs": [],
   "source": [
    "im1 = []\n",
    "for k in pn:\n",
    "    x ,y = k\n",
    "    im1.append(x+y*1j)"
   ]
  },
  {
   "cell_type": "code",
   "execution_count": 45,
   "metadata": {
    "collapsed": false
   },
   "outputs": [
    {
     "data": {
      "text/plain": [
       "array([[    0,     1],\n",
       "       [    1,     2],\n",
       "       [    1,     3],\n",
       "       ..., \n",
       "       [ 5002,  9998],\n",
       "       [ 5913,  9999],\n",
       "       [14211, 10000]])"
      ]
     },
     "execution_count": 45,
     "metadata": {},
     "output_type": "execute_result"
    }
   ],
   "source": [
    "pairs = [[i,i] for i in range(1,10001)]\n",
    "rpn = np.array(pairs,dtype = np.int32)\n",
    "rpn[::,0] = sumpd(pn[::,0])\n",
    "rpn"
   ]
  },
  {
   "cell_type": "code",
   "execution_count": 46,
   "metadata": {
    "collapsed": false,
    "scrolled": false
   },
   "outputs": [],
   "source": [
    "im2 = []\n",
    "for k in rpn:\n",
    "    x ,y = k\n",
    "    im2.append(x+y*1j)"
   ]
  },
  {
   "cell_type": "code",
   "execution_count": 47,
   "metadata": {
    "collapsed": false
   },
   "outputs": [
    {
     "name": "stdout",
     "output_type": "stream",
     "text": [
      "(220+284j)\n",
      "(284+220j)\n",
      "(1184+1210j)\n",
      "(1210+1184j)\n",
      "(2620+2924j)\n",
      "(2924+2620j)\n",
      "(5020+5564j)\n",
      "(5564+5020j)\n",
      "(6232+6368j)\n",
      "(6368+6232j)\n",
      "(31626+31626j)\n"
     ]
    }
   ],
   "source": [
    "total = 0\n",
    "for item in im1:\n",
    "    if item in im2:\n",
    "        if item.real != item.imag:\n",
    "            total += item\n",
    "            print(item)\n",
    "print(total)"
   ]
  },
  {
   "cell_type": "code",
   "execution_count": null,
   "metadata": {
    "collapsed": true
   },
   "outputs": [],
   "source": [
    ""
   ]
  },
  {
   "cell_type": "code",
   "execution_count": null,
   "metadata": {
    "collapsed": true
   },
   "outputs": [],
   "source": [
    ""
   ]
  }
 ],
 "metadata": {
  "kernelspec": {
   "display_name": "Python 3",
   "language": "python",
   "name": "python3"
  },
  "language_info": {
   "codemirror_mode": {
    "name": "ipython",
    "version": 3.0
   },
   "file_extension": ".py",
   "mimetype": "text/x-python",
   "name": "python",
   "nbconvert_exporter": "python",
   "pygments_lexer": "ipython3",
   "version": "3.5.2"
  }
 },
 "nbformat": 4,
 "nbformat_minor": 0
}