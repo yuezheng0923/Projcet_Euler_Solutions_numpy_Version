{
 "cells": [
  {
   "cell_type": "code",
   "execution_count": 1,
   "metadata": {
    "collapsed": true
   },
   "outputs": [],
   "source": [
    "import numpy as np\n",
    "\n",
    "def primesfrom2to(n):\n",
    "    # http://stackoverflow.com/questions/2068372/fastest-way-to-list-all-primes-below-n-in-python/3035188#3035188\n",
    "    \"\"\" Input n>=6, Returns a array of primes, 2 <= p < n \"\"\"\n",
    "    sieve = np.ones(n/3 + (n%6==2), dtype=np.bool)\n",
    "    sieve[0] = False\n",
    "    for i in range(int(n**0.5)//3+1):\n",
    "        if sieve[i]:\n",
    "            k=3*i+1|1\n",
    "            sieve[      ((k*k)/3)      ::2*k] = False\n",
    "            sieve[(k*k+4*k-2*k*(i&1))/3::2*k] = False\n",
    "    return np.r_[2,3,((3*np.nonzero(sieve)[0]+1)|1)]"
   ]
  },
  {
   "cell_type": "code",
   "execution_count": 2,
   "metadata": {
    "collapsed": false
   },
   "outputs": [],
   "source": [
    "def power_count(n,p):\n",
    "    res = 0\n",
    "    while n%p == 0:\n",
    "        n //= p\n",
    "        res += 1\n",
    "    return res"
   ]
  },
  {
   "cell_type": "code",
   "execution_count": 3,
   "metadata": {
    "collapsed": false
   },
   "outputs": [
    {
     "name": "stderr",
     "output_type": "stream",
     "text": [
      "D:\\WinPython\\WinPython-32bit-3.5.2.3Qt5\\python-3.5.2\\lib\\site-packages\\numpy\\core\\numeric.py:190: VisibleDeprecationWarning: using a non-integer number instead of an integer will result in an error in the future\n",
      "  a = empty(shape, dtype, order)\n",
      "D:\\WinPython\\WinPython-32bit-3.5.2.3Qt5\\python-3.5.2\\lib\\site-packages\\ipykernel\\__main__.py:11: VisibleDeprecationWarning: using a non-integer number instead of an integer will result in an error in the future\n",
      "D:\\WinPython\\WinPython-32bit-3.5.2.3Qt5\\python-3.5.2\\lib\\site-packages\\ipykernel\\__main__.py:12: VisibleDeprecationWarning: using a non-integer number instead of an integer will result in an error in the future\n"
     ]
    },
    {
     "data": {
      "text/plain": [
       "array([[2, 3, 5, 7, 19],\n",
       "       [3, 6, 2, 1, 1]], dtype=object)"
      ]
     },
     "execution_count": 3,
     "metadata": {},
     "output_type": "execute_result"
    }
   ],
   "source": [
    "from math import sqrt\n",
    "def factorize(n):\n",
    "    pfs = primesfrom2to(n//2+1)\n",
    "    pc = np.frompyfunc(power_count,2,1,dtype = np.int32)\n",
    "    \n",
    "    ct = pc(n,pfs)\n",
    "    index = np.where(ct>0)\n",
    "    return np.stack((pfs[index],ct[index]))\n",
    "\n",
    "factorize(19391400)   "
   ]
  },
  {
   "cell_type": "code",
   "execution_count": 4,
   "metadata": {
    "collapsed": false
   },
   "outputs": [],
   "source": [
    "from sympy import primefactors"
   ]
  },
  {
   "cell_type": "code",
   "execution_count": 5,
   "metadata": {
    "collapsed": false
   },
   "outputs": [
    {
     "data": {
      "text/plain": [
       "[2, 3, 5, 7, 19]"
      ]
     },
     "execution_count": 5,
     "metadata": {},
     "output_type": "execute_result"
    }
   ],
   "source": [
    "primefactors(2**3*3**4*5**2*1197)"
   ]
  },
  {
   "cell_type": "code",
   "execution_count": 6,
   "metadata": {
    "collapsed": false
   },
   "outputs": [
    {
     "data": {
      "text/plain": [
       "19391400"
      ]
     },
     "execution_count": 6,
     "metadata": {},
     "output_type": "execute_result"
    }
   ],
   "source": [
    "2**3*3**4*5**2*1197"
   ]
  },
  {
   "cell_type": "code",
   "execution_count": 7,
   "metadata": {
    "collapsed": false
   },
   "outputs": [
    {
     "name": "stderr",
     "output_type": "stream",
     "text": [
      "D:\\WinPython\\WinPython-32bit-3.5.2.3Qt5\\python-3.5.2\\lib\\site-packages\\numpy\\core\\numeric.py:190: VisibleDeprecationWarning: using a non-integer number instead of an integer will result in an error in the future\n",
      "  a = empty(shape, dtype, order)\n",
      "D:\\WinPython\\WinPython-32bit-3.5.2.3Qt5\\python-3.5.2\\lib\\site-packages\\ipykernel\\__main__.py:11: VisibleDeprecationWarning: using a non-integer number instead of an integer will result in an error in the future\n",
      "D:\\WinPython\\WinPython-32bit-3.5.2.3Qt5\\python-3.5.2\\lib\\site-packages\\ipykernel\\__main__.py:12: VisibleDeprecationWarning: using a non-integer number instead of an integer will result in an error in the future\n"
     ]
    }
   ],
   "source": [
    "prms = factorize(19391400)[0]\n",
    "cts = factorize(19391400)[1]\n",
    "t=prms**cts"
   ]
  },
  {
   "cell_type": "code",
   "execution_count": 8,
   "metadata": {
    "collapsed": false
   },
   "outputs": [
    {
     "data": {
      "text/plain": [
       "19391400"
      ]
     },
     "execution_count": 8,
     "metadata": {},
     "output_type": "execute_result"
    }
   ],
   "source": [
    "np.multiply.reduce(t)"
   ]
  },
  {
   "cell_type": "code",
   "execution_count": 34,
   "metadata": {
    "collapsed": false
   },
   "outputs": [
    {
     "data": {
      "text/plain": [
       "array([   1,    2,    3,    4,    5,    6,    8,   10,   12,   15,   20,\n",
       "         24,   25,   30,   40,   50,   60,   75,  100,  120,  125,  150,\n",
       "        200,  250,  300,  375,  500,  600,  750, 1000, 1500])"
      ]
     },
     "execution_count": 34,
     "metadata": {},
     "output_type": "execute_result"
    }
   ],
   "source": [
    "def proper_divsors(x):\n",
    "    r= np.arange(2,int(sqrt(x)+1))\n",
    "    c = np.mod(x,r)\n",
    "    z = np.logical_xor(r,c)\n",
    "    sd = r[z]\n",
    "    bd = x//sd\n",
    "    res = np.r_[1,sd,bd]\n",
    "    res.sort()\n",
    "    return  res\n",
    "\n",
    "proper_divsors(3000)"
   ]
  },
  {
   "cell_type": "code",
   "execution_count": 36,
   "metadata": {
    "collapsed": false
   },
   "outputs": [
    {
     "data": {
      "text/plain": [
       "array([   1,    2,    3,    4,    5,    6,    8,   10,   12,   15,   20,\n",
       "         24,   25,   30,   40,   50,   60,   75,  100,  120,  125,  150,\n",
       "        200,  250,  300,  375,  500,  600,  750, 1000, 1500, 3000])"
      ]
     },
     "execution_count": 36,
     "metadata": {},
     "output_type": "execute_result"
    }
   ],
   "source": [
    "divisors_np(3000)"
   ]
  },
  {
   "cell_type": "code",
   "execution_count": null,
   "metadata": {
    "collapsed": true
   },
   "outputs": [],
   "source": []
  },
  {
   "cell_type": "code",
   "execution_count": 22,
   "metadata": {
    "collapsed": true
   },
   "outputs": [],
   "source": [
    "def divisors_np(n):\n",
    "    candidates = np.arange(1,sqrt(n) +1,dtype = int)\n",
    "    div = np.mod(n,candidates)\n",
    "    index = np.where(div ==0)\n",
    "    small_divs = candidates[index]\n",
    "    big_divs = n//small_divs\n",
    "    res = np.r_[small_divs,big_divs]\n",
    "    res.sort()\n",
    "    return res"
   ]
  },
  {
   "cell_type": "code",
   "execution_count": 23,
   "metadata": {
    "collapsed": false
   },
   "outputs": [
    {
     "name": "stdout",
     "output_type": "stream",
     "text": [
      "48\n"
     ]
    }
   ],
   "source": [
    "divisors_np(313800)\n",
    "print(len(divisors_np(313800)))"
   ]
  },
  {
   "cell_type": "code",
   "execution_count": 24,
   "metadata": {
    "collapsed": true
   },
   "outputs": [],
   "source": [
    "from sympy import divisors"
   ]
  },
  {
   "cell_type": "code",
   "execution_count": 25,
   "metadata": {
    "collapsed": false
   },
   "outputs": [
    {
     "data": {
      "text/plain": [
       "48"
      ]
     },
     "execution_count": 25,
     "metadata": {},
     "output_type": "execute_result"
    }
   ],
   "source": [
    "len(divisors(313800))"
   ]
  },
  {
   "cell_type": "code",
   "execution_count": 26,
   "metadata": {
    "collapsed": false
   },
   "outputs": [
    {
     "name": "stdout",
     "output_type": "stream",
     "text": [
      "The slowest run took 5.17 times longer than the fastest. This could mean that an intermediate result is being cached.\n",
      "10000 loops, best of 3: 48.4 µs per loop\n"
     ]
    }
   ],
   "source": [
    "%%timeit\n",
    "divisors_np(3138000)"
   ]
  },
  {
   "cell_type": "code",
   "execution_count": 27,
   "metadata": {
    "collapsed": false
   },
   "outputs": [
    {
     "name": "stdout",
     "output_type": "stream",
     "text": [
      "10000 loops, best of 3: 60.9 µs per loop\n"
     ]
    }
   ],
   "source": [
    "%%timeit\n",
    "divisors(3138000)"
   ]
  },
  {
   "cell_type": "code",
   "execution_count": 28,
   "metadata": {
    "collapsed": false
   },
   "outputs": [
    {
     "data": {
      "text/plain": [
       "array([      1,       2,       3,       4,       5,       6,       8,\n",
       "            10,      12,      15,      16,      20,      24,      25,\n",
       "            30,      40,      48,      50,      60,      75,      80,\n",
       "           100,     120,     125,     150,     200,     240,     250,\n",
       "           300,     375,     400,     500,     523,     600,     750,\n",
       "          1000,    1046,    1200,    1500,    1569,    2000,    2092,\n",
       "          2615,    3000,    3138,    4184,    5230,    6000,    6276,\n",
       "          7845,    8368,   10460,   12552,   13075,   15690,   20920,\n",
       "         25104,   26150,   31380,   39225,   41840,   52300,   62760,\n",
       "         65375,   78450,  104600,  125520,  130750,  156900,  196125,\n",
       "        209200,  261500,  313800,  392250,  523000,  627600,  784500,\n",
       "       1046000, 1569000, 3138000])"
      ]
     },
     "execution_count": 28,
     "metadata": {},
     "output_type": "execute_result"
    }
   ],
   "source": [
    "divisors_np(3138000)"
   ]
  },
  {
   "cell_type": "code",
   "execution_count": null,
   "metadata": {
    "collapsed": true
   },
   "outputs": [],
   "source": []
  }
 ],
 "metadata": {
  "kernelspec": {
   "display_name": "Python 3",
   "language": "python",
   "name": "python3"
  },
  "language_info": {
   "codemirror_mode": {
    "name": "ipython",
    "version": 3
   },
   "file_extension": ".py",
   "mimetype": "text/x-python",
   "name": "python",
   "nbconvert_exporter": "python",
   "pygments_lexer": "ipython3",
   "version": "3.5.2"
  }
 },
 "nbformat": 4,
 "nbformat_minor": 0
}
